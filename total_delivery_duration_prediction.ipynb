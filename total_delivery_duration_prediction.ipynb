{
 "cells": [
  {
   "cell_type": "markdown",
   "metadata": {},
   "source": [
    "# Predict time needed to complete a food delivery request\n",
    "\n",
    "The goal is to predict the total time needed to complete a food delivery request, which is the time between 'created_at' and 'actual_delivery_time'. The variable 'created_at' is the time a customer makes an order through an app. The variable 'actual_delivery_time' is the time the customer receives the food order. "
   ]
  },
  {
   "cell_type": "markdown",
   "metadata": {},
   "source": [
    "### Import packgaes "
   ]
  },
  {
   "cell_type": "code",
   "execution_count": 2,
   "metadata": {
    "collapsed": true
   },
   "outputs": [],
   "source": [
    "#basic dataframe manipulation and plotting\n",
    "import pandas as pd #for manipulating dataframe\n",
    "import numpy as np #for manipulating numbers\n",
    "import matplotlib.pyplot as plt #for plotting\n",
    "import seaborn as sns\n",
    "\n",
    "#funcitons for dealing with categorical NaNs\n",
    "from sklearn.preprocessing import OneHotEncoder\n",
    "from sklearn.preprocessing import OrdinalEncoder\n",
    "\n",
    "#a function for normalizing the data\n",
    "from sklearn import preprocessing\n",
    "\n",
    "##ML\n",
    "from sklearn.linear_model import Ridge, ElasticNet, Lasso, LinearRegression #linear models\n",
    "from sklearn.neural_network import MLPRegressor #nonlinear model\n",
    "from sklearn.metrics import mean_squared_error #calculate test error of models\n",
    "from sklearn.model_selection import GridSearchCV #use gridsearch approach for specified parameter values\n",
    "\n",
    "# just use this simple imputer to get mean of continuous features; for discrete features just create a \n",
    "# separate level for missing data\n",
    "from sklearn.impute import SimpleImputer\n",
    "\n",
    "#import my own functions\n",
    "%run ML_funcs.ipynb"
   ]
  },
  {
   "cell_type": "markdown",
   "metadata": {},
   "source": [
    "### Specify variables"
   ]
  },
  {
   "cell_type": "code",
   "execution_count": 3,
   "metadata": {
    "collapsed": true
   },
   "outputs": [],
   "source": [
    "#Specify variables\n",
    "tz1 ='UTC'\n",
    "tz2 = 'US/Pacific'\n",
    "random_seed = 0\n",
    "train_data_fname = \"./historical_data.csv\"\n",
    "test_data_fname = \"./predict_data.csv\""
   ]
  },
  {
   "cell_type": "markdown",
   "metadata": {},
   "source": [
    "### Load data"
   ]
  },
  {
   "cell_type": "code",
   "execution_count": 4,
   "metadata": {
    "collapsed": true
   },
   "outputs": [],
   "source": [
    "train_data = pd.read_csv(train_data_fname)\n",
    "test_data = pd.read_csv(test_data_fname)"
   ]
  },
  {
   "cell_type": "markdown",
   "metadata": {},
   "source": [
    "## Data preprocessing"
   ]
  },
  {
   "cell_type": "code",
   "execution_count": 5,
   "metadata": {},
   "outputs": [
    {
     "data": {
      "text/plain": [
       "Index(['market_id', 'created_at', 'actual_delivery_time', 'store_id',\n",
       "       'store_primary_category', 'order_protocol', 'total_items', 'subtotal',\n",
       "       'num_distinct_items', 'min_item_price', 'max_item_price',\n",
       "       'total_onshift_dashers', 'total_busy_dashers',\n",
       "       'total_outstanding_orders', 'estimated_order_place_duration',\n",
       "       'estimated_store_to_consumer_driving_duration'],\n",
       "      dtype='object')"
      ]
     },
     "execution_count": 5,
     "metadata": {},
     "output_type": "execute_result"
    }
   ],
   "source": [
    "#check out data\n",
    "#train_data.head()\n",
    "train_data.columns"
   ]
  },
  {
   "cell_type": "code",
   "execution_count": 6,
   "metadata": {},
   "outputs": [],
   "source": [
    "#train_data.describe()"
   ]
  },
  {
   "cell_type": "code",
   "execution_count": 7,
   "metadata": {},
   "outputs": [],
   "source": [
    "#test_data.head()"
   ]
  },
  {
   "cell_type": "code",
   "execution_count": 8,
   "metadata": {},
   "outputs": [
    {
     "data": {
      "text/plain": [
       "market_id                                         987\n",
       "created_at                                          0\n",
       "actual_delivery_time                                7\n",
       "store_id                                            0\n",
       "store_primary_category                           4760\n",
       "order_protocol                                    995\n",
       "total_items                                         0\n",
       "subtotal                                            0\n",
       "num_distinct_items                                  0\n",
       "min_item_price                                      0\n",
       "max_item_price                                      0\n",
       "total_onshift_dashers                           16262\n",
       "total_busy_dashers                              16262\n",
       "total_outstanding_orders                        16262\n",
       "estimated_order_place_duration                      0\n",
       "estimated_store_to_consumer_driving_duration      526\n",
       "dtype: int64"
      ]
     },
     "execution_count": 8,
     "metadata": {},
     "output_type": "execute_result"
    }
   ],
   "source": [
    "#check NA values\n",
    "train_data.isnull().sum() "
   ]
  },
  {
   "cell_type": "code",
   "execution_count": 9,
   "metadata": {},
   "outputs": [
    {
     "data": {
      "text/plain": [
       "market_id                                        250\n",
       "created_at                                         0\n",
       "store_id                                           0\n",
       "store_primary_category                          1343\n",
       "order_protocol                                   283\n",
       "total_items                                        0\n",
       "subtotal                                           0\n",
       "num_distinct_items                                 0\n",
       "min_item_price                                     0\n",
       "max_item_price                                     0\n",
       "total_onshift_dashers                           4633\n",
       "total_busy_dashers                              4633\n",
       "total_outstanding_orders                        4633\n",
       "estimated_order_place_duration                     0\n",
       "estimated_store_to_consumer_driving_duration      11\n",
       "delivery_id                                        0\n",
       "platform                                           0\n",
       "dtype: int64"
      ]
     },
     "execution_count": 9,
     "metadata": {},
     "output_type": "execute_result"
    }
   ],
   "source": [
    "#check NA values\n",
    "test_data.isnull().sum() "
   ]
  },
  {
   "cell_type": "code",
   "execution_count": 10,
   "metadata": {
    "collapsed": true
   },
   "outputs": [],
   "source": [
    "# get rid of 7 data points with missing delivery time! these are useless\n",
    "train_data = train_data.dropna(subset=['actual_delivery_time']).reset_index(drop = True)\n",
    "\n",
    "# drop the delivery id and platform columns in test df; these are not in training data\n",
    "test_data = test_data.drop(['delivery_id','platform'], axis = 1)"
   ]
  },
  {
   "cell_type": "code",
   "execution_count": 11,
   "metadata": {},
   "outputs": [
    {
     "name": "stdout",
     "output_type": "stream",
     "text": [
      "75\n",
      "72\n"
     ]
    },
    {
     "data": {
      "text/plain": [
       "71"
      ]
     },
     "execution_count": 11,
     "metadata": {},
     "output_type": "execute_result"
    }
   ],
   "source": [
    "# only store_id has values in test data not seen in train data\n",
    "unique_array_train = train_data.store_primary_category.unique()\n",
    "\n",
    "# print(train_data.store_id.unique())\n",
    "print(len(unique_array_train))\n",
    "\n",
    "unique_array_test = test_data.store_primary_category.unique()\n",
    "\n",
    "# print(train_data.store_id.unique())\n",
    "print(len(unique_array_test))\n",
    "\n",
    "len([i for i in unique_array_test if i in unique_array_train])"
   ]
  },
  {
   "cell_type": "code",
   "execution_count": 12,
   "metadata": {},
   "outputs": [
    {
     "name": "stdout",
     "output_type": "stream",
     "text": [
      "1802\n"
     ]
    },
    {
     "data": {
      "image/png": "[encoded data removed]",
      "text/plain": [
       "<Figure size 432x288 with 1 Axes>"
      ]
     },
     "metadata": {},
     "output_type": "display_data"
    }
   ],
   "source": [
    "# many store ids don't even have that many data points each...maybe just don't use this variable in training...\n",
    "print((train_data.store_id.value_counts().values < 5).sum())\n",
    "\n",
    "plt.hist(train_data.store_id.value_counts(), bins=200);\n",
    "plt.show()"
   ]
  },
  {
   "cell_type": "code",
   "execution_count": 13,
   "metadata": {
    "collapsed": true
   },
   "outputs": [],
   "source": [
    "# impute the missing values for continuous features with the mean\n",
    "train_continuous = train_data.drop(['market_id','created_at','actual_delivery_time',\n",
    "                                    'store_id','store_primary_category','order_protocol'], \n",
    "                                   axis=1)\n",
    "\n",
    "test_continuous = test_data.drop(['market_id','created_at',\n",
    "                                    'store_id','store_primary_category','order_protocol'], \n",
    "                                   axis=1)"
   ]
  },
  {
   "cell_type": "code",
   "execution_count": 14,
   "metadata": {},
   "outputs": [
    {
     "name": "stdout",
     "output_type": "stream",
     "text": [
      "(197421, 10)\n",
      "(54778, 10)\n"
     ]
    }
   ],
   "source": [
    "print(train_continuous.shape)\n",
    "print(test_continuous.shape)"
   ]
  },
  {
   "cell_type": "code",
   "execution_count": 15,
   "metadata": {
    "collapsed": true
   },
   "outputs": [],
   "source": [
    "imputer = SimpleImputer(strategy='mean')\n",
    "\n",
    "# fit imputation model on training data\n",
    "imputer.fit(train_continuous)\n",
    "\n",
    "# impute missing data\n",
    "train_imputed = imputer.transform(train_continuous)\n",
    "test_imputed = imputer.transform(test_continuous)\n",
    "\n",
    "train_continuous_imputed = train_continuous.copy()\n",
    "train_continuous_imputed[:] = train_imputed\n",
    "\n",
    "test_continuous_imputed = test_continuous.copy()\n",
    "test_continuous_imputed[:] = test_imputed\n",
    "\n",
    "# put imputed continuous columns back to the original dataframes\n",
    "train_data = train_data.combine_first(train_continuous_imputed)\n",
    "test_data = test_data.combine_first(test_continuous_imputed)"
   ]
  },
  {
   "cell_type": "code",
   "execution_count": null,
   "metadata": {
    "collapsed": true
   },
   "outputs": [],
   "source": []
  },
  {
   "cell_type": "code",
   "execution_count": 16,
   "metadata": {
    "collapsed": true
   },
   "outputs": [],
   "source": [
    "# for categorical variables, convert to dummy code? and just make the NaN another level in each feature!\n",
    "#NaN for categorical data will just be stored at another level in the categories\n",
    "\n",
    "# for categories that are only in test data and not in train data, it is set to -1 for now...\n",
    "# this only happens for store_id -- decided to remove store_id "
   ]
  },
  {
   "cell_type": "code",
   "execution_count": 17,
   "metadata": {
    "collapsed": true
   },
   "outputs": [],
   "source": [
    "# encode each categorical variable as integers! account for all unique values in both test and train set! \n",
    "train_cat = train_data[['market_id','store_primary_category','order_protocol']]#'store_id'\n",
    "test_cat = test_data[['market_id','store_primary_category','order_protocol']]#,'store_id'\n",
    "\n",
    "train_cat = train_cat.astype(str)\n",
    "test_cat = test_cat.astype(str)\n",
    "\n",
    "\n",
    "enc = OrdinalEncoder(dtype = int, handle_unknown = 'use_encoded_value',unknown_value=-1)\n",
    "\n",
    "# fit encoder on training data\n",
    "enc.fit(train_cat)\n",
    "\n",
    "# trasnform\n",
    "train_cat[:] = enc.transform(train_cat)\n",
    "test_cat[:] = enc.transform(test_cat)\n",
    "\n",
    "# put columns back to the original dataframes\n",
    "train_data = train_cat.combine_first(train_data)\n",
    "test_data = test_cat.combine_first(test_data)"
   ]
  },
  {
   "cell_type": "code",
   "execution_count": 18,
   "metadata": {
    "collapsed": true
   },
   "outputs": [],
   "source": [
    "##Now we have filled all the NaN values"
   ]
  },
  {
   "cell_type": "code",
   "execution_count": 19,
   "metadata": {},
   "outputs": [
    {
     "data": {
      "text/plain": [
       "actual_delivery_time                            0\n",
       "created_at                                      0\n",
       "estimated_order_place_duration                  0\n",
       "estimated_store_to_consumer_driving_duration    0\n",
       "market_id                                       0\n",
       "max_item_price                                  0\n",
       "min_item_price                                  0\n",
       "num_distinct_items                              0\n",
       "order_protocol                                  0\n",
       "store_id                                        0\n",
       "store_primary_category                          0\n",
       "subtotal                                        0\n",
       "total_busy_dashers                              0\n",
       "total_items                                     0\n",
       "total_onshift_dashers                           0\n",
       "total_outstanding_orders                        0\n",
       "dtype: int64"
      ]
     },
     "execution_count": 19,
     "metadata": {},
     "output_type": "execute_result"
    }
   ],
   "source": [
    "train_data.isnull().sum()"
   ]
  },
  {
   "cell_type": "code",
   "execution_count": 20,
   "metadata": {},
   "outputs": [
    {
     "data": {
      "text/plain": [
       "created_at                                      0\n",
       "estimated_order_place_duration                  0\n",
       "estimated_store_to_consumer_driving_duration    0\n",
       "market_id                                       0\n",
       "max_item_price                                  0\n",
       "min_item_price                                  0\n",
       "num_distinct_items                              0\n",
       "order_protocol                                  0\n",
       "store_id                                        0\n",
       "store_primary_category                          0\n",
       "subtotal                                        0\n",
       "total_busy_dashers                              0\n",
       "total_items                                     0\n",
       "total_onshift_dashers                           0\n",
       "total_outstanding_orders                        0\n",
       "dtype: int64"
      ]
     },
     "execution_count": 20,
     "metadata": {},
     "output_type": "execute_result"
    }
   ],
   "source": [
    "test_data.isnull().sum()"
   ]
  },
  {
   "cell_type": "code",
   "execution_count": 21,
   "metadata": {
    "collapsed": true
   },
   "outputs": [],
   "source": [
    "##check data again"
   ]
  },
  {
   "cell_type": "code",
   "execution_count": 22,
   "metadata": {},
   "outputs": [
    {
     "data": {
      "text/plain": [
       "(197421, 16)"
      ]
     },
     "execution_count": 22,
     "metadata": {},
     "output_type": "execute_result"
    }
   ],
   "source": [
    "train_data.shape"
   ]
  },
  {
   "cell_type": "code",
   "execution_count": 23,
   "metadata": {},
   "outputs": [
    {
     "data": {
      "text/plain": [
       "(54778, 15)"
      ]
     },
     "execution_count": 23,
     "metadata": {},
     "output_type": "execute_result"
    }
   ],
   "source": [
    "test_data.shape"
   ]
  },
  {
   "cell_type": "code",
   "execution_count": 24,
   "metadata": {},
   "outputs": [],
   "source": [
    "#train_data.describe()"
   ]
  },
  {
   "cell_type": "code",
   "execution_count": 25,
   "metadata": {},
   "outputs": [],
   "source": [
    "#test_data.describe()"
   ]
  },
  {
   "cell_type": "code",
   "execution_count": 26,
   "metadata": {
    "collapsed": true
   },
   "outputs": [],
   "source": [
    "# get rid of outliers..etc\n",
    "# can't do this for test data\n",
    "# do this for duration! \n",
    "# some other outliers in the training data: negative values for price, negative values for number of dashers, etc\n",
    "# I do not remove those outliers because they may appear in test data!"
   ]
  },
  {
   "cell_type": "code",
   "execution_count": 27,
   "metadata": {
    "collapsed": true
   },
   "outputs": [],
   "source": [
    "def addColumns(input_data, test = False):\n",
    "\n",
    "    if test == False:\n",
    "        duration = pd.to_datetime(input_data['actual_delivery_time'])-pd.to_datetime(input_data['created_at'])\n",
    "        input_data['total_duration']=duration.dt.total_seconds()\n",
    "        \n",
    "    \n",
    "    input_data['available_dasher']=input_data['total_onshift_dashers']-input_data['total_busy_dashers']\n",
    "\n",
    "    test = pd.to_datetime(input_data['created_at'])\n",
    "    input_data['day_of_week']=test.dt.dayofweek\n",
    "\n",
    "    input_data['UStime'] = pd.to_datetime(input_data['created_at']).dt.tz_localize(tz1).dt.tz_convert(tz2)\n",
    "    input_data['time_of_day']=input_data['UStime'].dt.strftime(\"%H\").astype(int)\n",
    "\n",
    "    input_data['week_sin'] = np.sin((input_data['day_of_week']+1)*2*np.pi/7)\n",
    "    input_data['week_cos'] = np.cos((input_data['day_of_week']+1)*2*np.pi/7)\n",
    "\n",
    "    input_data['day_sin'] = np.sin(input_data['time_of_day']*2*np.pi/24)\n",
    "    input_data['day_cos'] = np.cos(input_data['time_of_day']*2*np.pi/24)\n",
    "    \n",
    "    return input_data"
   ]
  },
  {
   "cell_type": "code",
   "execution_count": 28,
   "metadata": {
    "collapsed": true
   },
   "outputs": [],
   "source": [
    "train_data = addColumns(train_data)\n",
    "test_data  = addColumns(test_data, test = True)"
   ]
  },
  {
   "cell_type": "code",
   "execution_count": 29,
   "metadata": {},
   "outputs": [],
   "source": [
    "#train_data.describe()"
   ]
  },
  {
   "cell_type": "code",
   "execution_count": 30,
   "metadata": {
    "collapsed": true
   },
   "outputs": [],
   "source": [
    "train = train_data.drop(['UStime','time_of_day','day_of_week','actual_delivery_time','created_at'], axis=1) \n",
    "test = test_data.drop(['UStime','time_of_day','day_of_week','created_at'], axis=1) "
   ]
  },
  {
   "cell_type": "code",
   "execution_count": 31,
   "metadata": {},
   "outputs": [
    {
     "data": {
      "text/plain": [
       "(197421, 20)"
      ]
     },
     "execution_count": 31,
     "metadata": {},
     "output_type": "execute_result"
    }
   ],
   "source": [
    "train.shape"
   ]
  },
  {
   "cell_type": "code",
   "execution_count": 32,
   "metadata": {},
   "outputs": [
    {
     "data": {
      "text/plain": [
       "(54778, 19)"
      ]
     },
     "execution_count": 32,
     "metadata": {},
     "output_type": "execute_result"
    }
   ],
   "source": [
    "test.shape"
   ]
  },
  {
   "cell_type": "code",
   "execution_count": 33,
   "metadata": {
    "collapsed": true
   },
   "outputs": [],
   "source": [
    "# # get rid of total duration outliers! \n",
    "total_duration_outlier = (np.mean(train['total_duration'])+np.std(train['total_duration'])*6)\n",
    "train=train[train['total_duration']<total_duration_outlier] # remove values that are above 6STD from mean"
   ]
  },
  {
   "cell_type": "code",
   "execution_count": 34,
   "metadata": {},
   "outputs": [
    {
     "data": {
      "text/plain": [
       "count    197418.000000\n",
       "mean       2861.582323\n",
       "std        1164.087414\n",
       "min         101.000000\n",
       "25%        2104.000000\n",
       "50%        2660.000000\n",
       "75%        3381.000000\n",
       "max       57032.000000\n",
       "Name: total_duration, dtype: float64"
      ]
     },
     "execution_count": 34,
     "metadata": {},
     "output_type": "execute_result"
    }
   ],
   "source": [
    "train.total_duration.describe()"
   ]
  },
  {
   "cell_type": "code",
   "execution_count": 35,
   "metadata": {
    "collapsed": true
   },
   "outputs": [],
   "source": [
    "# convert categorial to onehot! \n",
    "# and construct the full training matrix from both continuous and categorical matrices\n",
    "\n",
    "enc_onehot = OneHotEncoder(handle_unknown='ignore', sparse = False)\n",
    "enc_onehot.fit(train[['market_id','store_primary_category','order_protocol']])#'store_id'\n",
    "\n",
    "train_cat_mat = enc_onehot.transform(train[['market_id','store_primary_category','order_protocol']])#'store_id'\n",
    "test_cat_mat = enc_onehot.transform(test[['market_id','store_primary_category','order_protocol']])#'store_id'"
   ]
  },
  {
   "cell_type": "code",
   "execution_count": 36,
   "metadata": {},
   "outputs": [
    {
     "data": {
      "text/plain": [
       "(54778, 90)"
      ]
     },
     "execution_count": 36,
     "metadata": {},
     "output_type": "execute_result"
    }
   ],
   "source": [
    "test_cat_mat.shape"
   ]
  },
  {
   "cell_type": "code",
   "execution_count": 37,
   "metadata": {},
   "outputs": [
    {
     "data": {
      "text/plain": [
       "(197418, 90)"
      ]
     },
     "execution_count": 37,
     "metadata": {},
     "output_type": "execute_result"
    }
   ],
   "source": [
    "train_cat_mat.shape"
   ]
  },
  {
   "cell_type": "code",
   "execution_count": 38,
   "metadata": {
    "collapsed": true
   },
   "outputs": [],
   "source": [
    "# get the continuous matrix matrix!\n",
    "\n",
    "train_duration = train['total_duration'].values\n",
    "train = train.drop(['total_duration'],axis=1, errors='ignore')\n",
    "\n",
    "train_cont_mat = train.drop(['market_id','store_primary_category','order_protocol'], axis=1)#,'store_id'\n",
    "train_cont_vairables = train_cont_mat.columns\n",
    "train_cont_mat = train_cont_mat\n",
    "test_cont_mat = test.drop(['market_id','store_primary_category','order_protocol'], axis=1).values#,'store_id'"
   ]
  },
  {
   "cell_type": "code",
   "execution_count": 39,
   "metadata": {},
   "outputs": [
    {
     "data": {
      "text/plain": [
       "Index(['estimated_order_place_duration',\n",
       "       'estimated_store_to_consumer_driving_duration', 'market_id',\n",
       "       'max_item_price', 'min_item_price', 'num_distinct_items',\n",
       "       'order_protocol', 'store_id', 'store_primary_category', 'subtotal',\n",
       "       'total_busy_dashers', 'total_items', 'total_onshift_dashers',\n",
       "       'total_outstanding_orders', 'available_dasher', 'week_sin', 'week_cos',\n",
       "       'day_sin', 'day_cos'],\n",
       "      dtype='object')"
      ]
     },
     "execution_count": 39,
     "metadata": {},
     "output_type": "execute_result"
    }
   ],
   "source": [
    "train.columns"
   ]
  },
  {
   "cell_type": "code",
   "execution_count": 40,
   "metadata": {},
   "outputs": [
    {
     "data": {
      "text/plain": [
       "Index(['estimated_order_place_duration',\n",
       "       'estimated_store_to_consumer_driving_duration', 'market_id',\n",
       "       'max_item_price', 'min_item_price', 'num_distinct_items',\n",
       "       'order_protocol', 'store_id', 'store_primary_category', 'subtotal',\n",
       "       'total_busy_dashers', 'total_items', 'total_onshift_dashers',\n",
       "       'total_outstanding_orders', 'available_dasher', 'week_sin', 'week_cos',\n",
       "       'day_sin', 'day_cos'],\n",
       "      dtype='object')"
      ]
     },
     "execution_count": 40,
     "metadata": {},
     "output_type": "execute_result"
    }
   ],
   "source": [
    "test.columns"
   ]
  },
  {
   "cell_type": "code",
   "execution_count": 41,
   "metadata": {},
   "outputs": [
    {
     "name": "stdout",
     "output_type": "stream",
     "text": [
      "(197418, 106) (54778, 106)\n"
     ]
    }
   ],
   "source": [
    "# combine continuous and categorical matrices into the complete mtr\n",
    "train_mat = np.concatenate((train_cont_mat,train_cat_mat),axis=1)\n",
    "test_mat = np.concatenate((test_cont_mat,test_cat_mat),axis=1)\n",
    "print(train_mat.shape,test_mat.shape)"
   ]
  },
  {
   "cell_type": "code",
   "execution_count": 41,
   "metadata": {},
   "outputs": [
    {
     "name": "stdout",
     "output_type": "stream",
     "text": [
      "(197418, 106) (54778, 106)\n"
     ]
    }
   ],
   "source": [
    "#normalize the continuous variables for Lasso\n",
    "normalized_cont_train = preprocessing.normalize(train_cont_mat)\n",
    "normalized_cont_test = preprocessing.normalize(test_cont_mat)\n",
    "train_norm_mat = np.concatenate((normalized_cont_train,train_cat_mat),axis=1)\n",
    "test_norm_mat = np.concatenate((normalized_cont_test, test_cat_mat), axis = 1)\n",
    "print(train_norm_mat.shape,test_norm_mat.shape)"
   ]
  },
  {
   "cell_type": "markdown",
   "metadata": {},
   "source": [
    "## Train and test models -- models selection"
   ]
  },
  {
   "cell_type": "code",
   "execution_count": null,
   "metadata": {
    "collapsed": true
   },
   "outputs": [],
   "source": [
    "# build models and test"
   ]
  },
  {
   "cell_type": "code",
   "execution_count": 44,
   "metadata": {
    "collapsed": true
   },
   "outputs": [],
   "source": [
    "#X = train.iloc[:,np.r_[0:2]]\n",
    "X = train_mat\n",
    "y = train_duration"
   ]
  },
  {
   "cell_type": "code",
   "execution_count": 45,
   "metadata": {
    "collapsed": true
   },
   "outputs": [],
   "source": [
    "splits=getSplitsStratKFold(\n",
    "                    X,\n",
    "                    y,\n",
    "                    n_splits = 10, #how many splits\n",
    "                    n_repeats = 1, # how many times to repeat this to get different splits\n",
    "                    stratified = False, # for unbalanced categorical data\n",
    "                    seed = 0)"
   ]
  },
  {
   "cell_type": "code",
   "execution_count": 46,
   "metadata": {
    "collapsed": true
   },
   "outputs": [],
   "source": [
    "Xlasso = train_norm_mat\n",
    "ylasso = train_duration\n",
    "\n",
    "splitslasso=getSplitsStratKFold(\n",
    "                    Xlasso,\n",
    "                    ylasso,\n",
    "                    n_splits = 10, #how many splits\n",
    "                    n_repeats = 1, # how many times to repeat this to get different splits\n",
    "                    stratified = False, # for unbalanced categorical data\n",
    "                    seed = 0)"
   ]
  },
  {
   "cell_type": "code",
   "execution_count": 49,
   "metadata": {},
   "outputs": [
    {
     "name": "stdout",
     "output_type": "stream",
     "text": [
      "Ridge: 0.01 697.82156082444\n",
      "Lasso: 0.01 729.3061536815637\n",
      "Ridge: 0.1 697.8207485827821\n",
      "Lasso: 0.1 730.4721356511047\n",
      "Ridge: 1 697.8151173802883\n",
      "Lasso: 1 770.7997521608838\n",
      "Ridge: 10 697.797661120508\n",
      "Lasso: 10 807.4977935012\n",
      "Ridge: 100 697.8150858409894\n",
      "Lasso: 100 824.4382139369533\n",
      "Ridge: 1000 698.215177619151\n",
      "Lasso: 1000 824.4382139369533\n",
      "Ridge: 10000 700.1910595443063\n",
      "Lasso: 10000 824.4382139369533\n"
     ]
    }
   ],
   "source": [
    "alphas = [0.01, 0.1,1, 10,100,1000,10000]#, 1, 10,100,1000\n",
    "\n",
    "# RMSE since really bad errors are magnified compared to MAE\n",
    "\n",
    "for ialpha in alphas:\n",
    "    ridge_test_alphas = train_and_test(X = X,\n",
    "                   y = y,\n",
    "                   splits = splits,\n",
    "                   model_class = Ridge,\n",
    "                   score_func = mean_squared_error, # this is actualy RMSE; see train_and_test() doc\n",
    "                   model_args={'random_state':random_seed,'alpha':ialpha}, # for passing parameters to model_class\n",
    "                   #gridcv_params={'alpha':alphas}, # for cross-validatings different parameters\n",
    "                   gridcv_args=None,\n",
    "                   fit_args=None,\n",
    "                   feature_norm = False, # whether to normalize each feature dimension prior to classification\n",
    "                   return_models=False\n",
    "                   )\n",
    "    ridge_alpha_test_errors=[np.mean(abs(alpha_test_errors)) for alpha_test_errors in ridge_test_alphas['test_errors']]\n",
    "    print('Ridge:',ialpha, np.mean(ridge_alpha_test_errors))\n",
    "    \n",
    "    \n",
    "    lasso_test_alphas = train_and_test(X = Xlasso,\n",
    "                   y = ylasso,\n",
    "                   splits = splitslasso,\n",
    "                   model_class = Lasso,\n",
    "                   score_func = mean_squared_error, # this is actualy RMSE; see train_and_test() doc\n",
    "                   model_args={'random_state':random_seed,'alpha':ialpha, 'max_iter':100000}, # for passing parameters to model_class\n",
    "                   #gridcv_params={'alpha':alphas}, # for cross-validatings different parameters\n",
    "                   gridcv_args=None,\n",
    "                   fit_args=None,\n",
    "                   feature_norm = False, # whether to normalize each feature dimension prior to classification\n",
    "                   return_models=False\n",
    "                   )\n",
    "    lasso_test_alphas_errors=[np.mean(abs(alpha_test_errors)) for alpha_test_errors in lasso_test_alphas['test_errors']]\n",
    "    print('Lasso:',ialpha, np.mean(lasso_test_alphas_errors))"
   ]
  },
  {
   "cell_type": "code",
   "execution_count": 50,
   "metadata": {
    "collapsed": true
   },
   "outputs": [],
   "source": [
    "alphas = [0.01, 0.1,1, 10,100,1000]\n",
    "ridge_results = train_and_test(X = X,\n",
    "                   y = y,\n",
    "                   splits = splits,\n",
    "                   model_class = Ridge,\n",
    "                   score_func = mean_squared_error, # this is actualy RMSE; see train_and_test() doc\n",
    "                   model_args={'random_state':random_seed}, # for passing parameters to model_class\n",
    "                   gridcv_params={'alpha':alphas}, # for cross-validatings different parameters\n",
    "                   gridcv_args= None,\n",
    "                   fit_args= None,\n",
    "                   feature_norm = False, # whether to normalize each feature dimension prior to classification\n",
    "                   return_models= True\n",
    "                   )"
   ]
  },
  {
   "cell_type": "code",
   "execution_count": 51,
   "metadata": {},
   "outputs": [
    {
     "data": {
      "text/plain": [
       "698.215177619151"
      ]
     },
     "execution_count": 51,
     "metadata": {},
     "output_type": "execute_result"
    }
   ],
   "source": [
    "ridge_results_test_errors=[np.mean(abs(itest_errors)) for itest_errors in ridge_results['test_errors']]\n",
    "np.mean(ridge_results_test_errors)"
   ]
  },
  {
   "cell_type": "code",
   "execution_count": 52,
   "metadata": {
    "collapsed": true
   },
   "outputs": [],
   "source": [
    "alphas = [0.01,0.1, 1]\n",
    "lasso_results = train_and_test(X = Xlasso,\n",
    "               y = ylasso,\n",
    "               splits = splitslasso,\n",
    "               model_class = Lasso,\n",
    "               score_func = mean_squared_error, # this is actualy RMSE; see train_and_test() doc\n",
    "               model_args={'random_state':random_seed, 'max_iter':100000}, # for passing parameters to model_class\n",
    "               gridcv_params={'alpha':alphas}, # for cross-validatings different parameters\n",
    "               gridcv_args= None,\n",
    "               fit_args= None,\n",
    "               feature_norm = False, # whether to normalize each feature dimension prior to classification\n",
    "               return_models= True\n",
    "               )"
   ]
  },
  {
   "cell_type": "code",
   "execution_count": 53,
   "metadata": {},
   "outputs": [
    {
     "data": {
      "text/plain": [
       "729.3061536815637"
      ]
     },
     "execution_count": 53,
     "metadata": {},
     "output_type": "execute_result"
    }
   ],
   "source": [
    "lasso_results_test_errors=[np.mean(abs(itest_errors)) for itest_errors in lasso_results['test_errors']]\n",
    "np.mean(lasso_results_test_errors)"
   ]
  },
  {
   "cell_type": "code",
   "execution_count": 54,
   "metadata": {
    "collapsed": true
   },
   "outputs": [],
   "source": [
    "#from sklearn.neural_network import MLPRegressor\n",
    "MLP_model = train_and_test(X = X,\n",
    "                   y = y,\n",
    "                   splits = splits,\n",
    "                   model_class = MLPRegressor,\n",
    "                   score_func = mean_squared_error,\n",
    "                   model_args={'random_state':random_seed, 'max_iter':2000}, # for passing parameters to model_class\n",
    "                   gridcv_params=None, # for cross-validatings different parameters\n",
    "                   gridcv_args=None,\n",
    "                   fit_args=None,\n",
    "                   feature_norm = False, # whether to normalize each feature dimension prior to classification\n",
    "                   return_models=False\n",
    "                   )\n"
   ]
  },
  {
   "cell_type": "code",
   "execution_count": 55,
   "metadata": {},
   "outputs": [
    {
     "data": {
      "text/plain": [
       "670.1991257640832"
      ]
     },
     "execution_count": 55,
     "metadata": {},
     "output_type": "execute_result"
    }
   ],
   "source": [
    "MLP_model_test_errors=[np.mean(abs(ttest_errors)) for ttest_errors in MLP_model['test_errors']]\n",
    "np.mean(MLP_model_test_errors)"
   ]
  },
  {
   "cell_type": "markdown",
   "metadata": {},
   "source": [
    "### Plot the model comparison result"
   ]
  },
  {
   "cell_type": "code",
   "execution_count": 73,
   "metadata": {
    "collapsed": true
   },
   "outputs": [],
   "source": [
    "model_comp = pd.DataFrame({\n",
    "    'test_errors':ridge_results_test_errors,\n",
    "    'labels':['ridge']*10\n",
    "})\n",
    "\n",
    "lassodf = pd.DataFrame({\n",
    "    'test_errors':lasso_results_test_errors,\n",
    "    'labels':['lasso']*10\n",
    "})\n",
    "\n",
    "mlpdf = pd.DataFrame({\n",
    "    'test_errors':MLP_model_test_errors,\n",
    "    'labels':['mlp']*10\n",
    "})\n",
    "\n",
    "\n",
    "model_comp = model_comp.append(lassodf, ignore_index=True)\n",
    "model_comp = model_comp.append(mlpdf, ignore_index=True)"
   ]
  },
  {
   "cell_type": "code",
   "execution_count": 74,
   "metadata": {},
   "outputs": [
    {
     "data": {
      "text/plain": [
       "(30, 2)"
      ]
     },
     "execution_count": 74,
     "metadata": {},
     "output_type": "execute_result"
    }
   ],
   "source": [
    "model_comp.shape"
   ]
  },
  {
   "cell_type": "code",
   "execution_count": 80,
   "metadata": {},
   "outputs": [
    {
     "data": {
      "image/png": "[encoded data removed]",
      "text/plain": [
       "<Figure size 792x576 with 1 Axes>"
      ]
     },
     "metadata": {},
     "output_type": "display_data"
    }
   ],
   "source": [
    "sns.set(rc={'figure.figsize':(11,8)})\n",
    "sns.set_style(\"whitegrid\")\n",
    "sns.violinplot(x='labels', y='test_errors', data=model_comp)\n",
    "plt.show()"
   ]
  },
  {
   "cell_type": "markdown",
   "metadata": {
    "collapsed": true
   },
   "source": [
    "## Train on all data and make prediction"
   ]
  },
  {
   "cell_type": "code",
   "execution_count": 119,
   "metadata": {
    "collapsed": true
   },
   "outputs": [],
   "source": [
    "MLP_model = MLPRegressor(random_state=random_seed, max_iter=2000)"
   ]
  },
  {
   "cell_type": "code",
   "execution_count": 120,
   "metadata": {},
   "outputs": [
    {
     "data": {
      "text/plain": [
       "MLPRegressor(max_iter=2000, random_state=0)"
      ]
     },
     "execution_count": 120,
     "metadata": {},
     "output_type": "execute_result"
    }
   ],
   "source": [
    "MLP_model.fit(X,y)"
   ]
  },
  {
   "cell_type": "code",
   "execution_count": 121,
   "metadata": {},
   "outputs": [
    {
     "data": {
      "text/plain": [
       "54778"
      ]
     },
     "execution_count": 121,
     "metadata": {},
     "output_type": "execute_result"
    }
   ],
   "source": [
    "len(MLP_model.predict(test_mat))"
   ]
  },
  {
   "cell_type": "code",
   "execution_count": 122,
   "metadata": {},
   "outputs": [
    {
     "data": {
      "text/plain": [
       "array([3471.41334624, 2900.47491119, 2405.35304924, ..., 2585.32593648,\n",
       "       3196.66847231, 2807.31478877])"
      ]
     },
     "execution_count": 122,
     "metadata": {},
     "output_type": "execute_result"
    }
   ],
   "source": [
    "MLP_model.predict(test_mat)"
   ]
  },
  {
   "cell_type": "code",
   "execution_count": null,
   "metadata": {
    "collapsed": true
   },
   "outputs": [],
   "source": [
    "#check the weights for different variables to learn which variables are important in predicting total duration"
   ]
  },
  {
   "cell_type": "code",
   "execution_count": 90,
   "metadata": {
    "collapsed": true
   },
   "outputs": [],
   "source": [
    "Ridge_model = Ridge(random_state=random_seed, alpha = 10)"
   ]
  },
  {
   "cell_type": "code",
   "execution_count": 91,
   "metadata": {},
   "outputs": [
    {
     "data": {
      "text/plain": [
       "Ridge(alpha=10, random_state=0)"
      ]
     },
     "execution_count": 91,
     "metadata": {},
     "output_type": "execute_result"
    }
   ],
   "source": [
    "Ridge_model.fit(X,y)"
   ]
  },
  {
   "cell_type": "code",
   "execution_count": 113,
   "metadata": {
    "collapsed": true
   },
   "outputs": [],
   "source": [
    "all_variables = train_cont_vairables.tolist()+enc_onehot.get_feature_names().tolist()"
   ]
  },
  {
   "cell_type": "code",
   "execution_count": 115,
   "metadata": {
    "collapsed": true
   },
   "outputs": [],
   "source": [
    "datafram = pd.DataFrame({'variables':all_variables,\n",
    "            'weights': Ridge_model.coef_})"
   ]
  },
  {
   "cell_type": "code",
   "execution_count": 117,
   "metadata": {},
   "outputs": [
    {
     "data": {
      "text/html": [
       "<div>\n",
       "<style scoped>\n",
       "    .dataframe tbody tr th:only-of-type {\n",
       "        vertical-align: middle;\n",
       "    }\n",
       "\n",
       "    .dataframe tbody tr th {\n",
       "        vertical-align: top;\n",
       "    }\n",
       "\n",
       "    .dataframe thead th {\n",
       "        text-align: right;\n",
       "    }\n",
       "</style>\n",
       "<table border=\"1\" class=\"dataframe\">\n",
       "  <thead>\n",
       "    <tr style=\"text-align: right;\">\n",
       "      <th></th>\n",
       "      <th>variables</th>\n",
       "      <th>weights</th>\n",
       "    </tr>\n",
       "  </thead>\n",
       "  <tbody>\n",
       "    <tr>\n",
       "      <th>4</th>\n",
       "      <td>num_distinct_items</td>\n",
       "      <td>24.479936</td>\n",
       "    </tr>\n",
       "    <tr>\n",
       "      <th>10</th>\n",
       "      <td>total_outstanding_orders</td>\n",
       "      <td>20.883659</td>\n",
       "    </tr>\n",
       "    <tr>\n",
       "      <th>12</th>\n",
       "      <td>week_sin</td>\n",
       "      <td>26.196704</td>\n",
       "    </tr>\n",
       "    <tr>\n",
       "      <th>13</th>\n",
       "      <td>week_cos</td>\n",
       "      <td>81.357691</td>\n",
       "    </tr>\n",
       "    <tr>\n",
       "      <th>16</th>\n",
       "      <td>x0_0</td>\n",
       "      <td>219.626825</td>\n",
       "    </tr>\n",
       "    <tr>\n",
       "      <th>18</th>\n",
       "      <td>x0_2</td>\n",
       "      <td>45.249250</td>\n",
       "    </tr>\n",
       "    <tr>\n",
       "      <th>23</th>\n",
       "      <td>x1_0</td>\n",
       "      <td>155.857964</td>\n",
       "    </tr>\n",
       "    <tr>\n",
       "      <th>31</th>\n",
       "      <td>x1_8</td>\n",
       "      <td>98.184280</td>\n",
       "    </tr>\n",
       "    <tr>\n",
       "      <th>32</th>\n",
       "      <td>x1_9</td>\n",
       "      <td>331.608502</td>\n",
       "    </tr>\n",
       "    <tr>\n",
       "      <th>35</th>\n",
       "      <td>x1_12</td>\n",
       "      <td>245.678630</td>\n",
       "    </tr>\n",
       "    <tr>\n",
       "      <th>37</th>\n",
       "      <td>x1_14</td>\n",
       "      <td>51.913234</td>\n",
       "    </tr>\n",
       "    <tr>\n",
       "      <th>39</th>\n",
       "      <td>x1_16</td>\n",
       "      <td>54.091032</td>\n",
       "    </tr>\n",
       "    <tr>\n",
       "      <th>40</th>\n",
       "      <td>x1_17</td>\n",
       "      <td>144.187539</td>\n",
       "    </tr>\n",
       "    <tr>\n",
       "      <th>45</th>\n",
       "      <td>x1_22</td>\n",
       "      <td>153.844585</td>\n",
       "    </tr>\n",
       "    <tr>\n",
       "      <th>47</th>\n",
       "      <td>x1_24</td>\n",
       "      <td>87.421999</td>\n",
       "    </tr>\n",
       "    <tr>\n",
       "      <th>50</th>\n",
       "      <td>x1_27</td>\n",
       "      <td>39.330613</td>\n",
       "    </tr>\n",
       "    <tr>\n",
       "      <th>52</th>\n",
       "      <td>x1_29</td>\n",
       "      <td>171.894170</td>\n",
       "    </tr>\n",
       "    <tr>\n",
       "      <th>57</th>\n",
       "      <td>x1_34</td>\n",
       "      <td>66.268281</td>\n",
       "    </tr>\n",
       "    <tr>\n",
       "      <th>59</th>\n",
       "      <td>x1_36</td>\n",
       "      <td>56.602565</td>\n",
       "    </tr>\n",
       "    <tr>\n",
       "      <th>62</th>\n",
       "      <td>x1_39</td>\n",
       "      <td>25.196274</td>\n",
       "    </tr>\n",
       "    <tr>\n",
       "      <th>63</th>\n",
       "      <td>x1_40</td>\n",
       "      <td>88.586794</td>\n",
       "    </tr>\n",
       "    <tr>\n",
       "      <th>68</th>\n",
       "      <td>x1_45</td>\n",
       "      <td>49.301721</td>\n",
       "    </tr>\n",
       "    <tr>\n",
       "      <th>71</th>\n",
       "      <td>x1_48</td>\n",
       "      <td>81.043679</td>\n",
       "    </tr>\n",
       "    <tr>\n",
       "      <th>72</th>\n",
       "      <td>x1_49</td>\n",
       "      <td>150.927067</td>\n",
       "    </tr>\n",
       "    <tr>\n",
       "      <th>73</th>\n",
       "      <td>x1_50</td>\n",
       "      <td>44.298414</td>\n",
       "    </tr>\n",
       "    <tr>\n",
       "      <th>74</th>\n",
       "      <td>x1_51</td>\n",
       "      <td>257.515616</td>\n",
       "    </tr>\n",
       "    <tr>\n",
       "      <th>75</th>\n",
       "      <td>x1_52</td>\n",
       "      <td>27.215491</td>\n",
       "    </tr>\n",
       "    <tr>\n",
       "      <th>76</th>\n",
       "      <td>x1_53</td>\n",
       "      <td>227.121035</td>\n",
       "    </tr>\n",
       "    <tr>\n",
       "      <th>77</th>\n",
       "      <td>x1_54</td>\n",
       "      <td>49.110832</td>\n",
       "    </tr>\n",
       "    <tr>\n",
       "      <th>80</th>\n",
       "      <td>x1_57</td>\n",
       "      <td>153.798740</td>\n",
       "    </tr>\n",
       "    <tr>\n",
       "      <th>82</th>\n",
       "      <td>x1_59</td>\n",
       "      <td>188.251691</td>\n",
       "    </tr>\n",
       "    <tr>\n",
       "      <th>83</th>\n",
       "      <td>x1_60</td>\n",
       "      <td>48.570305</td>\n",
       "    </tr>\n",
       "    <tr>\n",
       "      <th>88</th>\n",
       "      <td>x1_65</td>\n",
       "      <td>108.283515</td>\n",
       "    </tr>\n",
       "    <tr>\n",
       "      <th>89</th>\n",
       "      <td>x1_66</td>\n",
       "      <td>113.973444</td>\n",
       "    </tr>\n",
       "    <tr>\n",
       "      <th>90</th>\n",
       "      <td>x1_67</td>\n",
       "      <td>27.684351</td>\n",
       "    </tr>\n",
       "    <tr>\n",
       "      <th>91</th>\n",
       "      <td>x1_68</td>\n",
       "      <td>54.971789</td>\n",
       "    </tr>\n",
       "    <tr>\n",
       "      <th>92</th>\n",
       "      <td>x1_69</td>\n",
       "      <td>314.438116</td>\n",
       "    </tr>\n",
       "    <tr>\n",
       "      <th>101</th>\n",
       "      <td>x2_3</td>\n",
       "      <td>230.568387</td>\n",
       "    </tr>\n",
       "    <tr>\n",
       "      <th>103</th>\n",
       "      <td>x2_5</td>\n",
       "      <td>468.564425</td>\n",
       "    </tr>\n",
       "  </tbody>\n",
       "</table>\n",
       "</div>"
      ],
      "text/plain": [
       "                    variables     weights\n",
       "4          num_distinct_items   24.479936\n",
       "10   total_outstanding_orders   20.883659\n",
       "12                   week_sin   26.196704\n",
       "13                   week_cos   81.357691\n",
       "16                       x0_0  219.626825\n",
       "18                       x0_2   45.249250\n",
       "23                       x1_0  155.857964\n",
       "31                       x1_8   98.184280\n",
       "32                       x1_9  331.608502\n",
       "35                      x1_12  245.678630\n",
       "37                      x1_14   51.913234\n",
       "39                      x1_16   54.091032\n",
       "40                      x1_17  144.187539\n",
       "45                      x1_22  153.844585\n",
       "47                      x1_24   87.421999\n",
       "50                      x1_27   39.330613\n",
       "52                      x1_29  171.894170\n",
       "57                      x1_34   66.268281\n",
       "59                      x1_36   56.602565\n",
       "62                      x1_39   25.196274\n",
       "63                      x1_40   88.586794\n",
       "68                      x1_45   49.301721\n",
       "71                      x1_48   81.043679\n",
       "72                      x1_49  150.927067\n",
       "73                      x1_50   44.298414\n",
       "74                      x1_51  257.515616\n",
       "75                      x1_52   27.215491\n",
       "76                      x1_53  227.121035\n",
       "77                      x1_54   49.110832\n",
       "80                      x1_57  153.798740\n",
       "82                      x1_59  188.251691\n",
       "83                      x1_60   48.570305\n",
       "88                      x1_65  108.283515\n",
       "89                      x1_66  113.973444\n",
       "90                      x1_67   27.684351\n",
       "91                      x1_68   54.971789\n",
       "92                      x1_69  314.438116\n",
       "101                      x2_3  230.568387\n",
       "103                      x2_5  468.564425"
      ]
     },
     "execution_count": 117,
     "metadata": {},
     "output_type": "execute_result"
    }
   ],
   "source": [
    "datafram[datafram['weights']>10] #x0 = 'market_id', x1 = 'store_primary_category', x2 = 'order_protocol'"
   ]
  },
  {
   "cell_type": "code",
   "execution_count": 118,
   "metadata": {},
   "outputs": [
    {
     "data": {
      "text/html": [
       "<div>\n",
       "<style scoped>\n",
       "    .dataframe tbody tr th:only-of-type {\n",
       "        vertical-align: middle;\n",
       "    }\n",
       "\n",
       "    .dataframe tbody tr th {\n",
       "        vertical-align: top;\n",
       "    }\n",
       "\n",
       "    .dataframe thead th {\n",
       "        text-align: right;\n",
       "    }\n",
       "</style>\n",
       "<table border=\"1\" class=\"dataframe\">\n",
       "  <thead>\n",
       "    <tr style=\"text-align: right;\">\n",
       "      <th></th>\n",
       "      <th>variables</th>\n",
       "      <th>weights</th>\n",
       "    </tr>\n",
       "  </thead>\n",
       "  <tbody>\n",
       "    <tr>\n",
       "      <th>7</th>\n",
       "      <td>total_busy_dashers</td>\n",
       "      <td>-11.969611</td>\n",
       "    </tr>\n",
       "    <tr>\n",
       "      <th>9</th>\n",
       "      <td>total_onshift_dashers</td>\n",
       "      <td>-16.153278</td>\n",
       "    </tr>\n",
       "    <tr>\n",
       "      <th>14</th>\n",
       "      <td>day_sin</td>\n",
       "      <td>-191.544616</td>\n",
       "    </tr>\n",
       "    <tr>\n",
       "      <th>15</th>\n",
       "      <td>day_cos</td>\n",
       "      <td>-29.345621</td>\n",
       "    </tr>\n",
       "    <tr>\n",
       "      <th>17</th>\n",
       "      <td>x0_1</td>\n",
       "      <td>-106.273146</td>\n",
       "    </tr>\n",
       "    <tr>\n",
       "      <th>19</th>\n",
       "      <td>x0_3</td>\n",
       "      <td>-96.352500</td>\n",
       "    </tr>\n",
       "    <tr>\n",
       "      <th>20</th>\n",
       "      <td>x0_4</td>\n",
       "      <td>-50.793825</td>\n",
       "    </tr>\n",
       "    <tr>\n",
       "      <th>21</th>\n",
       "      <td>x0_5</td>\n",
       "      <td>-21.180538</td>\n",
       "    </tr>\n",
       "    <tr>\n",
       "      <th>24</th>\n",
       "      <td>x1_1</td>\n",
       "      <td>-40.349785</td>\n",
       "    </tr>\n",
       "    <tr>\n",
       "      <th>25</th>\n",
       "      <td>x1_2</td>\n",
       "      <td>-65.830518</td>\n",
       "    </tr>\n",
       "    <tr>\n",
       "      <th>26</th>\n",
       "      <td>x1_3</td>\n",
       "      <td>-29.410256</td>\n",
       "    </tr>\n",
       "    <tr>\n",
       "      <th>28</th>\n",
       "      <td>x1_5</td>\n",
       "      <td>-106.547786</td>\n",
       "    </tr>\n",
       "    <tr>\n",
       "      <th>29</th>\n",
       "      <td>x1_6</td>\n",
       "      <td>-35.996841</td>\n",
       "    </tr>\n",
       "    <tr>\n",
       "      <th>30</th>\n",
       "      <td>x1_7</td>\n",
       "      <td>-124.043362</td>\n",
       "    </tr>\n",
       "    <tr>\n",
       "      <th>33</th>\n",
       "      <td>x1_10</td>\n",
       "      <td>-23.989337</td>\n",
       "    </tr>\n",
       "    <tr>\n",
       "      <th>34</th>\n",
       "      <td>x1_11</td>\n",
       "      <td>-53.417225</td>\n",
       "    </tr>\n",
       "    <tr>\n",
       "      <th>36</th>\n",
       "      <td>x1_13</td>\n",
       "      <td>-17.779078</td>\n",
       "    </tr>\n",
       "    <tr>\n",
       "      <th>38</th>\n",
       "      <td>x1_15</td>\n",
       "      <td>-12.051353</td>\n",
       "    </tr>\n",
       "    <tr>\n",
       "      <th>41</th>\n",
       "      <td>x1_18</td>\n",
       "      <td>-19.238098</td>\n",
       "    </tr>\n",
       "    <tr>\n",
       "      <th>42</th>\n",
       "      <td>x1_19</td>\n",
       "      <td>-248.528682</td>\n",
       "    </tr>\n",
       "    <tr>\n",
       "      <th>43</th>\n",
       "      <td>x1_20</td>\n",
       "      <td>-50.780910</td>\n",
       "    </tr>\n",
       "    <tr>\n",
       "      <th>44</th>\n",
       "      <td>x1_21</td>\n",
       "      <td>-30.572645</td>\n",
       "    </tr>\n",
       "    <tr>\n",
       "      <th>46</th>\n",
       "      <td>x1_23</td>\n",
       "      <td>-56.226589</td>\n",
       "    </tr>\n",
       "    <tr>\n",
       "      <th>48</th>\n",
       "      <td>x1_25</td>\n",
       "      <td>-69.258111</td>\n",
       "    </tr>\n",
       "    <tr>\n",
       "      <th>49</th>\n",
       "      <td>x1_26</td>\n",
       "      <td>-12.441847</td>\n",
       "    </tr>\n",
       "    <tr>\n",
       "      <th>51</th>\n",
       "      <td>x1_28</td>\n",
       "      <td>-223.064092</td>\n",
       "    </tr>\n",
       "    <tr>\n",
       "      <th>53</th>\n",
       "      <td>x1_30</td>\n",
       "      <td>-151.216767</td>\n",
       "    </tr>\n",
       "    <tr>\n",
       "      <th>54</th>\n",
       "      <td>x1_31</td>\n",
       "      <td>-227.453868</td>\n",
       "    </tr>\n",
       "    <tr>\n",
       "      <th>55</th>\n",
       "      <td>x1_32</td>\n",
       "      <td>-178.952159</td>\n",
       "    </tr>\n",
       "    <tr>\n",
       "      <th>56</th>\n",
       "      <td>x1_33</td>\n",
       "      <td>-302.334190</td>\n",
       "    </tr>\n",
       "    <tr>\n",
       "      <th>58</th>\n",
       "      <td>x1_35</td>\n",
       "      <td>-59.450827</td>\n",
       "    </tr>\n",
       "    <tr>\n",
       "      <th>60</th>\n",
       "      <td>x1_37</td>\n",
       "      <td>-73.102877</td>\n",
       "    </tr>\n",
       "    <tr>\n",
       "      <th>61</th>\n",
       "      <td>x1_38</td>\n",
       "      <td>-112.089752</td>\n",
       "    </tr>\n",
       "    <tr>\n",
       "      <th>64</th>\n",
       "      <td>x1_41</td>\n",
       "      <td>-79.091342</td>\n",
       "    </tr>\n",
       "    <tr>\n",
       "      <th>66</th>\n",
       "      <td>x1_43</td>\n",
       "      <td>-71.511845</td>\n",
       "    </tr>\n",
       "    <tr>\n",
       "      <th>67</th>\n",
       "      <td>x1_44</td>\n",
       "      <td>-48.818804</td>\n",
       "    </tr>\n",
       "    <tr>\n",
       "      <th>70</th>\n",
       "      <td>x1_47</td>\n",
       "      <td>-67.190497</td>\n",
       "    </tr>\n",
       "    <tr>\n",
       "      <th>78</th>\n",
       "      <td>x1_55</td>\n",
       "      <td>-184.594680</td>\n",
       "    </tr>\n",
       "    <tr>\n",
       "      <th>79</th>\n",
       "      <td>x1_56</td>\n",
       "      <td>-110.543531</td>\n",
       "    </tr>\n",
       "    <tr>\n",
       "      <th>84</th>\n",
       "      <td>x1_61</td>\n",
       "      <td>-39.214429</td>\n",
       "    </tr>\n",
       "    <tr>\n",
       "      <th>85</th>\n",
       "      <td>x1_62</td>\n",
       "      <td>-306.319370</td>\n",
       "    </tr>\n",
       "    <tr>\n",
       "      <th>86</th>\n",
       "      <td>x1_63</td>\n",
       "      <td>-55.214476</td>\n",
       "    </tr>\n",
       "    <tr>\n",
       "      <th>87</th>\n",
       "      <td>x1_64</td>\n",
       "      <td>-40.364096</td>\n",
       "    </tr>\n",
       "    <tr>\n",
       "      <th>93</th>\n",
       "      <td>x1_70</td>\n",
       "      <td>-14.859347</td>\n",
       "    </tr>\n",
       "    <tr>\n",
       "      <th>94</th>\n",
       "      <td>x1_71</td>\n",
       "      <td>-127.357351</td>\n",
       "    </tr>\n",
       "    <tr>\n",
       "      <th>95</th>\n",
       "      <td>x1_72</td>\n",
       "      <td>-109.961503</td>\n",
       "    </tr>\n",
       "    <tr>\n",
       "      <th>96</th>\n",
       "      <td>x1_73</td>\n",
       "      <td>-50.672080</td>\n",
       "    </tr>\n",
       "    <tr>\n",
       "      <th>97</th>\n",
       "      <td>x1_74</td>\n",
       "      <td>-48.332423</td>\n",
       "    </tr>\n",
       "    <tr>\n",
       "      <th>98</th>\n",
       "      <td>x2_0</td>\n",
       "      <td>-154.583949</td>\n",
       "    </tr>\n",
       "    <tr>\n",
       "      <th>99</th>\n",
       "      <td>x2_1</td>\n",
       "      <td>-19.942952</td>\n",
       "    </tr>\n",
       "    <tr>\n",
       "      <th>100</th>\n",
       "      <td>x2_2</td>\n",
       "      <td>-117.387242</td>\n",
       "    </tr>\n",
       "    <tr>\n",
       "      <th>102</th>\n",
       "      <td>x2_4</td>\n",
       "      <td>-159.211763</td>\n",
       "    </tr>\n",
       "    <tr>\n",
       "      <th>104</th>\n",
       "      <td>x2_6</td>\n",
       "      <td>-83.411088</td>\n",
       "    </tr>\n",
       "    <tr>\n",
       "      <th>105</th>\n",
       "      <td>x2_7</td>\n",
       "      <td>-164.595818</td>\n",
       "    </tr>\n",
       "  </tbody>\n",
       "</table>\n",
       "</div>"
      ],
      "text/plain": [
       "                 variables     weights\n",
       "7       total_busy_dashers  -11.969611\n",
       "9    total_onshift_dashers  -16.153278\n",
       "14                 day_sin -191.544616\n",
       "15                 day_cos  -29.345621\n",
       "17                    x0_1 -106.273146\n",
       "19                    x0_3  -96.352500\n",
       "20                    x0_4  -50.793825\n",
       "21                    x0_5  -21.180538\n",
       "24                    x1_1  -40.349785\n",
       "25                    x1_2  -65.830518\n",
       "26                    x1_3  -29.410256\n",
       "28                    x1_5 -106.547786\n",
       "29                    x1_6  -35.996841\n",
       "30                    x1_7 -124.043362\n",
       "33                   x1_10  -23.989337\n",
       "34                   x1_11  -53.417225\n",
       "36                   x1_13  -17.779078\n",
       "38                   x1_15  -12.051353\n",
       "41                   x1_18  -19.238098\n",
       "42                   x1_19 -248.528682\n",
       "43                   x1_20  -50.780910\n",
       "44                   x1_21  -30.572645\n",
       "46                   x1_23  -56.226589\n",
       "48                   x1_25  -69.258111\n",
       "49                   x1_26  -12.441847\n",
       "51                   x1_28 -223.064092\n",
       "53                   x1_30 -151.216767\n",
       "54                   x1_31 -227.453868\n",
       "55                   x1_32 -178.952159\n",
       "56                   x1_33 -302.334190\n",
       "58                   x1_35  -59.450827\n",
       "60                   x1_37  -73.102877\n",
       "61                   x1_38 -112.089752\n",
       "64                   x1_41  -79.091342\n",
       "66                   x1_43  -71.511845\n",
       "67                   x1_44  -48.818804\n",
       "70                   x1_47  -67.190497\n",
       "78                   x1_55 -184.594680\n",
       "79                   x1_56 -110.543531\n",
       "84                   x1_61  -39.214429\n",
       "85                   x1_62 -306.319370\n",
       "86                   x1_63  -55.214476\n",
       "87                   x1_64  -40.364096\n",
       "93                   x1_70  -14.859347\n",
       "94                   x1_71 -127.357351\n",
       "95                   x1_72 -109.961503\n",
       "96                   x1_73  -50.672080\n",
       "97                   x1_74  -48.332423\n",
       "98                    x2_0 -154.583949\n",
       "99                    x2_1  -19.942952\n",
       "100                   x2_2 -117.387242\n",
       "102                   x2_4 -159.211763\n",
       "104                   x2_6  -83.411088\n",
       "105                   x2_7 -164.595818"
      ]
     },
     "execution_count": 118,
     "metadata": {},
     "output_type": "execute_result"
    }
   ],
   "source": [
    "datafram[datafram['weights']<-10] #x0 = 'market_id', x1 = 'store_primary_category', x2 = 'order_protocol'"
   ]
  },
  {
   "cell_type": "code",
   "execution_count": null,
   "metadata": {
    "collapsed": true
   },
   "outputs": [],
   "source": []
  }
 ],
 "metadata": {
  "kernelspec": {
   "display_name": "Python 3",
   "language": "python",
   "name": "python3"
  },
  "language_info": {
   "codemirror_mode": {
    "name": "ipython",
    "version": 3
   },
   "file_extension": ".py",
   "mimetype": "text/x-python",
   "name": "python",
   "nbconvert_exporter": "python",
   "pygments_lexer": "ipython3",
   "version": "3.6.1"
  }
 },
 "nbformat": 4,
 "nbformat_minor": 2
}
